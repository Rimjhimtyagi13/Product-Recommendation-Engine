{
 "cells": [
  {
   "cell_type": "code",
   "execution_count": 1,
   "id": "a4718480",
   "metadata": {},
   "outputs": [
    {
     "name": "stderr",
     "output_type": "stream",
     "text": [
      "D:\\Anaconda\\lib\\site-packages\\scipy\\__init__.py:146: UserWarning: A NumPy version >=1.16.5 and <1.23.0 is required for this version of SciPy (detected version 1.24.3\n",
      "  warnings.warn(f\"A NumPy version >={np_minversion} and <{np_maxversion}\"\n"
     ]
    }
   ],
   "source": [
    "import pandas as pd\n",
    "import numpy as np\n",
    "from nltk.stem.porter import PorterStemmer\n",
    "from sklearn.feature_extraction.text import CountVectorizer\n",
    "from sklearn.metrics.pairwise import cosine_similarity\n",
    "import pickle\n"
   ]
  },
  {
   "cell_type": "code",
   "execution_count": 29,
   "id": "d3ec140d",
   "metadata": {},
   "outputs": [],
   "source": [
    "items = pd.read_csv(\"All Electronics.csv\")"
   ]
  },
  {
   "cell_type": "code",
   "execution_count": 31,
   "id": "c96b960a",
   "metadata": {},
   "outputs": [
    {
     "data": {
      "text/html": [
       "<div>\n",
       "<style scoped>\n",
       "    .dataframe tbody tr th:only-of-type {\n",
       "        vertical-align: middle;\n",
       "    }\n",
       "\n",
       "    .dataframe tbody tr th {\n",
       "        vertical-align: top;\n",
       "    }\n",
       "\n",
       "    .dataframe thead th {\n",
       "        text-align: right;\n",
       "    }\n",
       "</style>\n",
       "<table border=\"1\" class=\"dataframe\">\n",
       "  <thead>\n",
       "    <tr style=\"text-align: right;\">\n",
       "      <th></th>\n",
       "      <th>name</th>\n",
       "      <th>main_category</th>\n",
       "      <th>sub_category</th>\n",
       "      <th>image</th>\n",
       "      <th>link</th>\n",
       "      <th>ratings</th>\n",
       "      <th>no_of_ratings</th>\n",
       "      <th>discount_price</th>\n",
       "      <th>actual_price</th>\n",
       "    </tr>\n",
       "  </thead>\n",
       "  <tbody>\n",
       "    <tr>\n",
       "      <th>0</th>\n",
       "      <td>Redmi 10 Power (Power Black, 8GB RAM, 128GB St...</td>\n",
       "      <td>tv, audio &amp; cameras</td>\n",
       "      <td>All Electronics</td>\n",
       "      <td>https://m.media-amazon.com/images/I/81eM15lVcJ...</td>\n",
       "      <td>https://www.amazon.in/Redmi-Power-Black-128GB-...</td>\n",
       "      <td>4.0</td>\n",
       "      <td>965</td>\n",
       "      <td>₹10,999</td>\n",
       "      <td>₹18,999</td>\n",
       "    </tr>\n",
       "  </tbody>\n",
       "</table>\n",
       "</div>"
      ],
      "text/plain": [
       "                                                name        main_category  \\\n",
       "0  Redmi 10 Power (Power Black, 8GB RAM, 128GB St...  tv, audio & cameras   \n",
       "\n",
       "      sub_category                                              image  \\\n",
       "0  All Electronics  https://m.media-amazon.com/images/I/81eM15lVcJ...   \n",
       "\n",
       "                                                link ratings no_of_ratings  \\\n",
       "0  https://www.amazon.in/Redmi-Power-Black-128GB-...     4.0           965   \n",
       "\n",
       "  discount_price actual_price  \n",
       "0        ₹10,999      ₹18,999  "
      ]
     },
     "execution_count": 31,
     "metadata": {},
     "output_type": "execute_result"
    }
   ],
   "source": [
    "items.head(1)"
   ]
  },
  {
   "cell_type": "code",
   "execution_count": 32,
   "id": "0d6ae2bf",
   "metadata": {},
   "outputs": [
    {
     "data": {
      "text/plain": [
       "name                0\n",
       "main_category       0\n",
       "sub_category        0\n",
       "image               0\n",
       "link                0\n",
       "ratings            95\n",
       "no_of_ratings      95\n",
       "discount_price    484\n",
       "actual_price       70\n",
       "dtype: int64"
      ]
     },
     "execution_count": 32,
     "metadata": {},
     "output_type": "execute_result"
    }
   ],
   "source": [
    "items.isnull().sum()"
   ]
  },
  {
   "cell_type": "code",
   "execution_count": 33,
   "id": "94768b89",
   "metadata": {},
   "outputs": [
    {
     "name": "stdout",
     "output_type": "stream",
     "text": [
      "<class 'pandas.core.frame.DataFrame'>\n",
      "RangeIndex: 9600 entries, 0 to 9599\n",
      "Data columns (total 9 columns):\n",
      " #   Column          Non-Null Count  Dtype \n",
      "---  ------          --------------  ----- \n",
      " 0   name            9600 non-null   object\n",
      " 1   main_category   9600 non-null   object\n",
      " 2   sub_category    9600 non-null   object\n",
      " 3   image           9600 non-null   object\n",
      " 4   link            9600 non-null   object\n",
      " 5   ratings         9505 non-null   object\n",
      " 6   no_of_ratings   9505 non-null   object\n",
      " 7   discount_price  9116 non-null   object\n",
      " 8   actual_price    9530 non-null   object\n",
      "dtypes: object(9)\n",
      "memory usage: 675.1+ KB\n"
     ]
    }
   ],
   "source": [
    "items.info()"
   ]
  },
  {
   "cell_type": "code",
   "execution_count": 35,
   "id": "fc8a211e",
   "metadata": {},
   "outputs": [
    {
     "data": {
      "text/html": [
       "<div>\n",
       "<style scoped>\n",
       "    .dataframe tbody tr th:only-of-type {\n",
       "        vertical-align: middle;\n",
       "    }\n",
       "\n",
       "    .dataframe tbody tr th {\n",
       "        vertical-align: top;\n",
       "    }\n",
       "\n",
       "    .dataframe thead th {\n",
       "        text-align: right;\n",
       "    }\n",
       "</style>\n",
       "<table border=\"1\" class=\"dataframe\">\n",
       "  <thead>\n",
       "    <tr style=\"text-align: right;\">\n",
       "      <th></th>\n",
       "      <th>name</th>\n",
       "      <th>main_category</th>\n",
       "      <th>sub_category</th>\n",
       "      <th>image</th>\n",
       "      <th>link</th>\n",
       "      <th>ratings</th>\n",
       "      <th>no_of_ratings</th>\n",
       "      <th>discount_price</th>\n",
       "      <th>actual_price</th>\n",
       "    </tr>\n",
       "  </thead>\n",
       "  <tbody>\n",
       "    <tr>\n",
       "      <th>count</th>\n",
       "      <td>9600</td>\n",
       "      <td>9600</td>\n",
       "      <td>9600</td>\n",
       "      <td>9600</td>\n",
       "      <td>9600</td>\n",
       "      <td>9505</td>\n",
       "      <td>9505</td>\n",
       "      <td>9116</td>\n",
       "      <td>9530</td>\n",
       "    </tr>\n",
       "    <tr>\n",
       "      <th>unique</th>\n",
       "      <td>8800</td>\n",
       "      <td>1</td>\n",
       "      <td>1</td>\n",
       "      <td>9321</td>\n",
       "      <td>9600</td>\n",
       "      <td>39</td>\n",
       "      <td>3455</td>\n",
       "      <td>1608</td>\n",
       "      <td>1068</td>\n",
       "    </tr>\n",
       "    <tr>\n",
       "      <th>top</th>\n",
       "      <td>TAGG Verve Sense Smartwatch with 1.70'' Large ...</td>\n",
       "      <td>tv, audio &amp; cameras</td>\n",
       "      <td>All Electronics</td>\n",
       "      <td>https://m.media-amazon.com/images/I/61ARj+szfW...</td>\n",
       "      <td>https://www.amazon.in/Redmi-Power-Black-128GB-...</td>\n",
       "      <td>4.3</td>\n",
       "      <td>1</td>\n",
       "      <td>₹299</td>\n",
       "      <td>₹999</td>\n",
       "    </tr>\n",
       "    <tr>\n",
       "      <th>freq</th>\n",
       "      <td>9</td>\n",
       "      <td>9600</td>\n",
       "      <td>9600</td>\n",
       "      <td>7</td>\n",
       "      <td>1</td>\n",
       "      <td>1310</td>\n",
       "      <td>51</td>\n",
       "      <td>481</td>\n",
       "      <td>1540</td>\n",
       "    </tr>\n",
       "  </tbody>\n",
       "</table>\n",
       "</div>"
      ],
      "text/plain": [
       "                                                     name  \\\n",
       "count                                                9600   \n",
       "unique                                               8800   \n",
       "top     TAGG Verve Sense Smartwatch with 1.70'' Large ...   \n",
       "freq                                                    9   \n",
       "\n",
       "              main_category     sub_category  \\\n",
       "count                  9600             9600   \n",
       "unique                    1                1   \n",
       "top     tv, audio & cameras  All Electronics   \n",
       "freq                   9600             9600   \n",
       "\n",
       "                                                    image  \\\n",
       "count                                                9600   \n",
       "unique                                               9321   \n",
       "top     https://m.media-amazon.com/images/I/61ARj+szfW...   \n",
       "freq                                                    7   \n",
       "\n",
       "                                                     link ratings  \\\n",
       "count                                                9600    9505   \n",
       "unique                                               9600      39   \n",
       "top     https://www.amazon.in/Redmi-Power-Black-128GB-...     4.3   \n",
       "freq                                                    1    1310   \n",
       "\n",
       "       no_of_ratings discount_price actual_price  \n",
       "count           9505           9116         9530  \n",
       "unique          3455           1608         1068  \n",
       "top                1           ₹299         ₹999  \n",
       "freq              51            481         1540  "
      ]
     },
     "execution_count": 35,
     "metadata": {},
     "output_type": "execute_result"
    }
   ],
   "source": [
    "items.describe()"
   ]
  },
  {
   "cell_type": "code",
   "execution_count": 36,
   "id": "4dcb1b75",
   "metadata": {},
   "outputs": [
    {
     "data": {
      "text/plain": [
       "0"
      ]
     },
     "execution_count": 36,
     "metadata": {},
     "output_type": "execute_result"
    }
   ],
   "source": [
    "items.duplicated().sum()"
   ]
  },
  {
   "cell_type": "code",
   "execution_count": 37,
   "id": "2fe79572",
   "metadata": {},
   "outputs": [
    {
     "data": {
      "text/plain": [
       "(9600, 9)"
      ]
     },
     "execution_count": 37,
     "metadata": {},
     "output_type": "execute_result"
    }
   ],
   "source": [
    "items.shape"
   ]
  },
  {
   "cell_type": "code",
   "execution_count": 39,
   "id": "b56a884c",
   "metadata": {},
   "outputs": [],
   "source": [
    "items['#keywords'] = items['name'].str.lower()\n"
   ]
  },
  {
   "cell_type": "code",
   "execution_count": 40,
   "id": "d1cb1f31",
   "metadata": {},
   "outputs": [
    {
     "data": {
      "text/html": [
       "<div>\n",
       "<style scoped>\n",
       "    .dataframe tbody tr th:only-of-type {\n",
       "        vertical-align: middle;\n",
       "    }\n",
       "\n",
       "    .dataframe tbody tr th {\n",
       "        vertical-align: top;\n",
       "    }\n",
       "\n",
       "    .dataframe thead th {\n",
       "        text-align: right;\n",
       "    }\n",
       "</style>\n",
       "<table border=\"1\" class=\"dataframe\">\n",
       "  <thead>\n",
       "    <tr style=\"text-align: right;\">\n",
       "      <th></th>\n",
       "      <th>name</th>\n",
       "      <th>main_category</th>\n",
       "      <th>sub_category</th>\n",
       "      <th>image</th>\n",
       "      <th>link</th>\n",
       "      <th>ratings</th>\n",
       "      <th>no_of_ratings</th>\n",
       "      <th>discount_price</th>\n",
       "      <th>actual_price</th>\n",
       "      <th>#keywords</th>\n",
       "    </tr>\n",
       "  </thead>\n",
       "  <tbody>\n",
       "    <tr>\n",
       "      <th>0</th>\n",
       "      <td>Redmi 10 Power (Power Black, 8GB RAM, 128GB St...</td>\n",
       "      <td>tv, audio &amp; cameras</td>\n",
       "      <td>All Electronics</td>\n",
       "      <td>https://m.media-amazon.com/images/I/81eM15lVcJ...</td>\n",
       "      <td>https://www.amazon.in/Redmi-Power-Black-128GB-...</td>\n",
       "      <td>4.0</td>\n",
       "      <td>965</td>\n",
       "      <td>₹10,999</td>\n",
       "      <td>₹18,999</td>\n",
       "      <td>redmi 10 power (power black, 8gb ram, 128gb st...</td>\n",
       "    </tr>\n",
       "  </tbody>\n",
       "</table>\n",
       "</div>"
      ],
      "text/plain": [
       "                                                name        main_category  \\\n",
       "0  Redmi 10 Power (Power Black, 8GB RAM, 128GB St...  tv, audio & cameras   \n",
       "\n",
       "      sub_category                                              image  \\\n",
       "0  All Electronics  https://m.media-amazon.com/images/I/81eM15lVcJ...   \n",
       "\n",
       "                                                link ratings no_of_ratings  \\\n",
       "0  https://www.amazon.in/Redmi-Power-Black-128GB-...     4.0           965   \n",
       "\n",
       "  discount_price actual_price  \\\n",
       "0        ₹10,999      ₹18,999   \n",
       "\n",
       "                                           #keywords  \n",
       "0  redmi 10 power (power black, 8gb ram, 128gb st...  "
      ]
     },
     "execution_count": 40,
     "metadata": {},
     "output_type": "execute_result"
    }
   ],
   "source": [
    "items.head(1)"
   ]
  },
  {
   "cell_type": "code",
   "execution_count": 48,
   "id": "4d297702",
   "metadata": {},
   "outputs": [
    {
     "data": {
      "text/plain": [
       "0       [redmi, 10, power, (power, black,, 8gb, ram,, ...\n",
       "1       [oneplus, nord, ce, 2, lite, 5g, (blue, tide,,...\n",
       "2       [oneplus, bullets, z2, bluetooth, wireless, in...\n",
       "3       [samsung, galaxy, m33, 5g, (mystique, green,, ...\n",
       "4       [oneplus, nord, ce, 2, lite, 5g, (black, dusk,...\n",
       "                              ...                        \n",
       "9595    [palay®, bts, backpack, for, boys, kpop, bts, ...\n",
       "9596    [moca, ipad, air, 5th, generation, case, 2022,...\n",
       "9597    [zebronics, zeb-sound, bomb, 5, tws, v5.0, blu...\n",
       "9598    [linqs®, original, nxp, chip, |, waterproof, n...\n",
       "9599    [pragati, systems®, medium, grain, 24x36, inch...\n",
       "Name: #keywords, Length: 9600, dtype: object"
      ]
     },
     "execution_count": 48,
     "metadata": {},
     "output_type": "execute_result"
    }
   ],
   "source": [
    "items['#keywords'].str.split()"
   ]
  },
  {
   "cell_type": "code",
   "execution_count": null,
   "id": "d98d5b94",
   "metadata": {},
   "outputs": [],
   "source": []
  },
  {
   "cell_type": "code",
   "execution_count": 50,
   "id": "fed80ed4",
   "metadata": {},
   "outputs": [
    {
     "name": "stdout",
     "output_type": "stream",
     "text": [
      "tv, audio & cameras    9600\n",
      "Name: main_category, dtype: int64\n",
      "All Electronics    9600\n",
      "Name: sub_category, dtype: int64\n"
     ]
    }
   ],
   "source": [
    "print(items['main_category'].value_counts())\n",
    "print(items['sub_category'].value_counts())"
   ]
  },
  {
   "cell_type": "code",
   "execution_count": 51,
   "id": "1592d9b8",
   "metadata": {},
   "outputs": [],
   "source": [
    "items.drop(['main_category', 'sub_category'], axis=1, inplace=True)"
   ]
  },
  {
   "cell_type": "code",
   "execution_count": 52,
   "id": "c98de313",
   "metadata": {},
   "outputs": [
    {
     "name": "stderr",
     "output_type": "stream",
     "text": [
      "[nltk_data] Downloading package stopwords to\n",
      "[nltk_data]     C:\\Users\\rimjh\\AppData\\Roaming\\nltk_data...\n",
      "[nltk_data]   Unzipping corpora\\stopwords.zip.\n"
     ]
    }
   ],
   "source": [
    "import nltk\n",
    "from nltk.corpus import stopwords\n",
    "nltk.download('stopwords')\n",
    "\n",
    "# Load English stopwords\n",
    "stop_words = set(stopwords.words('english'))\n"
   ]
  },
  {
   "cell_type": "code",
   "execution_count": 54,
   "id": "f92193c4",
   "metadata": {},
   "outputs": [],
   "source": [
    "items['name'] = items['name'].apply(lambda x: ' '.join([word for word in x.split() if word.lower() not in stop_words]))\n"
   ]
  },
  {
   "cell_type": "code",
   "execution_count": 55,
   "id": "48de07a5",
   "metadata": {},
   "outputs": [
    {
     "data": {
      "text/plain": [
       "0       Redmi 10 Power (Power Black, 8GB RAM, 128GB St...\n",
       "1       OnePlus Nord CE 2 Lite 5G (Blue Tide, 6GB RAM,...\n",
       "2       OnePlus Bullets Z2 Bluetooth Wireless Ear Earp...\n",
       "3       Samsung Galaxy M33 5G (Mystique Green, 6GB, 12...\n",
       "4       OnePlus Nord CE 2 Lite 5G (Black Dusk, 6GB RAM...\n",
       "                              ...                        \n",
       "9595    PALAY® BTS Backpack Boys Kpop BTS Bangtan Scho...\n",
       "9596    MOCA iPad Air 5th Generation Case 2022 / iPad ...\n",
       "9597    ZEBRONICS Zeb-Sound Bomb 5 TWS V5.0 Bluetooth ...\n",
       "9598    LINQS® Original NXP Chip | Waterproof NFC Tag ...\n",
       "9599    Pragati Systems® Medium Grain 24x36 Inch 10 Oz...\n",
       "Name: name, Length: 9600, dtype: object"
      ]
     },
     "execution_count": 55,
     "metadata": {},
     "output_type": "execute_result"
    }
   ],
   "source": [
    "items['name']"
   ]
  },
  {
   "cell_type": "code",
   "execution_count": 56,
   "id": "4c55a064",
   "metadata": {},
   "outputs": [
    {
     "data": {
      "text/html": [
       "<div>\n",
       "<style scoped>\n",
       "    .dataframe tbody tr th:only-of-type {\n",
       "        vertical-align: middle;\n",
       "    }\n",
       "\n",
       "    .dataframe tbody tr th {\n",
       "        vertical-align: top;\n",
       "    }\n",
       "\n",
       "    .dataframe thead th {\n",
       "        text-align: right;\n",
       "    }\n",
       "</style>\n",
       "<table border=\"1\" class=\"dataframe\">\n",
       "  <thead>\n",
       "    <tr style=\"text-align: right;\">\n",
       "      <th></th>\n",
       "      <th>name</th>\n",
       "      <th>image</th>\n",
       "      <th>link</th>\n",
       "      <th>ratings</th>\n",
       "      <th>no_of_ratings</th>\n",
       "      <th>discount_price</th>\n",
       "      <th>actual_price</th>\n",
       "      <th>#keywords</th>\n",
       "    </tr>\n",
       "  </thead>\n",
       "  <tbody>\n",
       "    <tr>\n",
       "      <th>0</th>\n",
       "      <td>Redmi 10 Power (Power Black, 8GB RAM, 128GB St...</td>\n",
       "      <td>https://m.media-amazon.com/images/I/81eM15lVcJ...</td>\n",
       "      <td>https://www.amazon.in/Redmi-Power-Black-128GB-...</td>\n",
       "      <td>4.0</td>\n",
       "      <td>965</td>\n",
       "      <td>₹10,999</td>\n",
       "      <td>₹18,999</td>\n",
       "      <td>redmi 10 power (power black, 8gb ram, 128gb st...</td>\n",
       "    </tr>\n",
       "  </tbody>\n",
       "</table>\n",
       "</div>"
      ],
      "text/plain": [
       "                                                name  \\\n",
       "0  Redmi 10 Power (Power Black, 8GB RAM, 128GB St...   \n",
       "\n",
       "                                               image  \\\n",
       "0  https://m.media-amazon.com/images/I/81eM15lVcJ...   \n",
       "\n",
       "                                                link ratings no_of_ratings  \\\n",
       "0  https://www.amazon.in/Redmi-Power-Black-128GB-...     4.0           965   \n",
       "\n",
       "  discount_price actual_price  \\\n",
       "0        ₹10,999      ₹18,999   \n",
       "\n",
       "                                           #keywords  \n",
       "0  redmi 10 power (power black, 8gb ram, 128gb st...  "
      ]
     },
     "execution_count": 56,
     "metadata": {},
     "output_type": "execute_result"
    }
   ],
   "source": [
    "items.head(1)"
   ]
  },
  {
   "cell_type": "code",
   "execution_count": 58,
   "id": "944a00df",
   "metadata": {},
   "outputs": [
    {
     "data": {
      "text/plain": [
       "0       redmi 10 power (power black, 8gb ram, 128gb st...\n",
       "1       oneplus nord ce 2 lite 5g (blue tide, 6gb ram,...\n",
       "2       oneplus bullets z2 bluetooth wireless in ear e...\n",
       "3       samsung galaxy m33 5g (mystique green, 6gb, 12...\n",
       "4       oneplus nord ce 2 lite 5g (black dusk, 6gb ram...\n",
       "                              ...                        \n",
       "9595    palay® bts backpack for boys kpop bts bangtan ...\n",
       "9596    moca ipad air 5th generation case 2022 / ipad ...\n",
       "9597    zebronics zeb-sound bomb 5 tws v5.0 bluetooth ...\n",
       "9598    linqs® original nxp chip | waterproof nfc tag ...\n",
       "9599    pragati systems® medium grain 24x36 inch 10 oz...\n",
       "Name: #keywords, Length: 9600, dtype: object"
      ]
     },
     "execution_count": 58,
     "metadata": {},
     "output_type": "execute_result"
    }
   ],
   "source": [
    "items['#keywords']"
   ]
  },
  {
   "cell_type": "code",
   "execution_count": 63,
   "id": "eb733eb4",
   "metadata": {},
   "outputs": [
    {
     "data": {
      "text/html": [
       "<div>\n",
       "<style scoped>\n",
       "    .dataframe tbody tr th:only-of-type {\n",
       "        vertical-align: middle;\n",
       "    }\n",
       "\n",
       "    .dataframe tbody tr th {\n",
       "        vertical-align: top;\n",
       "    }\n",
       "\n",
       "    .dataframe thead th {\n",
       "        text-align: right;\n",
       "    }\n",
       "</style>\n",
       "<table border=\"1\" class=\"dataframe\">\n",
       "  <thead>\n",
       "    <tr style=\"text-align: right;\">\n",
       "      <th></th>\n",
       "      <th>name</th>\n",
       "      <th>image</th>\n",
       "      <th>link</th>\n",
       "      <th>ratings</th>\n",
       "      <th>no_of_ratings</th>\n",
       "      <th>discount_price</th>\n",
       "      <th>actual_price</th>\n",
       "      <th>#keywords</th>\n",
       "    </tr>\n",
       "  </thead>\n",
       "  <tbody>\n",
       "    <tr>\n",
       "      <th>0</th>\n",
       "      <td>Redmi 10 Power (Power Black, 8GB RAM, 128GB St...</td>\n",
       "      <td>https://m.media-amazon.com/images/I/81eM15lVcJ...</td>\n",
       "      <td>https://www.amazon.in/Redmi-Power-Black-128GB-...</td>\n",
       "      <td>4.0</td>\n",
       "      <td>965</td>\n",
       "      <td>₹10,999</td>\n",
       "      <td>₹18,999</td>\n",
       "      <td>redmi 10 power (power black, 8gb ram, 128gb st...</td>\n",
       "    </tr>\n",
       "  </tbody>\n",
       "</table>\n",
       "</div>"
      ],
      "text/plain": [
       "                                                name  \\\n",
       "0  Redmi 10 Power (Power Black, 8GB RAM, 128GB St...   \n",
       "\n",
       "                                               image  \\\n",
       "0  https://m.media-amazon.com/images/I/81eM15lVcJ...   \n",
       "\n",
       "                                                link ratings no_of_ratings  \\\n",
       "0  https://www.amazon.in/Redmi-Power-Black-128GB-...     4.0           965   \n",
       "\n",
       "  discount_price actual_price  \\\n",
       "0        ₹10,999      ₹18,999   \n",
       "\n",
       "                                           #keywords  \n",
       "0  redmi 10 power (power black, 8gb ram, 128gb st...  "
      ]
     },
     "execution_count": 63,
     "metadata": {},
     "output_type": "execute_result"
    }
   ],
   "source": [
    "items.head(1)"
   ]
  },
  {
   "cell_type": "code",
   "execution_count": 59,
   "id": "70ad295d",
   "metadata": {},
   "outputs": [],
   "source": [
    "stemmer = PorterStemmer()"
   ]
  },
  {
   "cell_type": "code",
   "execution_count": 60,
   "id": "ce164ed7",
   "metadata": {},
   "outputs": [],
   "source": [
    "def stemming(text):\n",
    "    words = []\n",
    "    for word in text.split(' '):\n",
    "        words.append(stemmer.stem(word))\n",
    "    return ' '.join(words)"
   ]
  },
  {
   "cell_type": "code",
   "execution_count": 64,
   "id": "4eb149ea",
   "metadata": {},
   "outputs": [
    {
     "data": {
      "text/plain": [
       "'run jump play'"
      ]
     },
     "execution_count": 64,
     "metadata": {},
     "output_type": "execute_result"
    }
   ],
   "source": [
    "text =  \"running jumped playing\"\n",
    "stemming(text)"
   ]
  },
  {
   "cell_type": "code",
   "execution_count": 65,
   "id": "1d8f7f6d",
   "metadata": {},
   "outputs": [],
   "source": [
    "items['#keywords'] = items['#keywords'].apply(stemming)"
   ]
  },
  {
   "cell_type": "code",
   "execution_count": 66,
   "id": "5b49f71a",
   "metadata": {},
   "outputs": [
    {
     "data": {
      "text/plain": [
       "0       redmi 10 power (power black, 8gb ram, 128gb st...\n",
       "1       oneplu nord ce 2 lite 5g (blue tide, 6gb ram, ...\n",
       "2       oneplu bullet z2 bluetooth wireless in ear ear...\n",
       "3       samsung galaxi m33 5g (mystiqu green, 6gb, 128...\n",
       "4       oneplu nord ce 2 lite 5g (black dusk, 6gb ram,...\n",
       "                              ...                        \n",
       "9595    palay® bt backpack for boy kpop bt bangtan sch...\n",
       "9596    moca ipad air 5th gener case 2022 / ipad air 4...\n",
       "9597    zebron zeb-sound bomb 5 tw v5.0 bluetooth trul...\n",
       "9598    linqs® origin nxp chip | waterproof nfc tag st...\n",
       "9599    pragati systems® medium grain 24x36 inch 10 oz...\n",
       "Name: #keywords, Length: 9600, dtype: object"
      ]
     },
     "execution_count": 66,
     "metadata": {},
     "output_type": "execute_result"
    }
   ],
   "source": [
    "items['#keywords']"
   ]
  },
  {
   "cell_type": "code",
   "execution_count": 67,
   "id": "17691b0b",
   "metadata": {},
   "outputs": [],
   "source": [
    "cv = CountVectorizer(max_features = 5000, stop_words = 'english', dtype = np.uint8)"
   ]
  },
  {
   "cell_type": "code",
   "execution_count": 68,
   "id": "76d35ae8",
   "metadata": {},
   "outputs": [
    {
     "data": {
      "text/plain": [
       "CountVectorizer(dtype=<class 'numpy.uint8'>, max_features=5000,\n",
       "                stop_words='english')"
      ]
     },
     "execution_count": 68,
     "metadata": {},
     "output_type": "execute_result"
    }
   ],
   "source": [
    "cv.fit(items['#keywords'])\n"
   ]
  },
  {
   "cell_type": "code",
   "execution_count": 71,
   "id": "ee506efc",
   "metadata": {},
   "outputs": [],
   "source": [
    "vector = cv.transform(items['#keywords']).toarray()"
   ]
  },
  {
   "cell_type": "code",
   "execution_count": 72,
   "id": "eb1e9e83",
   "metadata": {},
   "outputs": [],
   "source": [
    "similarity = cosine_similarity(vector)"
   ]
  },
  {
   "cell_type": "code",
   "execution_count": 73,
   "id": "2d6f90f9",
   "metadata": {},
   "outputs": [],
   "source": [
    "del(vector)\n",
    "items.drop(['#keywords'], axis=1, inplace=True)"
   ]
  },
  {
   "cell_type": "code",
   "execution_count": 74,
   "id": "09f497e6",
   "metadata": {},
   "outputs": [
    {
     "data": {
      "text/plain": [
       "(9600, 9600)"
      ]
     },
     "execution_count": 74,
     "metadata": {},
     "output_type": "execute_result"
    }
   ],
   "source": [
    "similarity.shape"
   ]
  },
  {
   "cell_type": "code",
   "execution_count": 75,
   "id": "143560bd",
   "metadata": {},
   "outputs": [
    {
     "data": {
      "text/plain": [
       "array([0.27272727, 1.        , 0.07106691, ..., 0.        , 0.        ,\n",
       "       0.        ])"
      ]
     },
     "execution_count": 75,
     "metadata": {},
     "output_type": "execute_result"
    }
   ],
   "source": [
    "similarity[1]"
   ]
  },
  {
   "cell_type": "code",
   "execution_count": 76,
   "id": "6f63fbbe",
   "metadata": {},
   "outputs": [
    {
     "data": {
      "text/plain": [
       "8414    ONUMTZ Newly Launched Smart Watch Charging Cab...\n",
       "2716    boAt Stone 620 Bluetooth Speaker 12W RMS Stere...\n",
       "1360    VIHM 7 1 Electronic Cleaner kit, Cleaning Kit ...\n",
       "1214    Apple Lightning USB Camera Adapter, USB 3.0 OT...\n",
       "420     boAt Rockerz 335 Bluetooth Ear Neckband Qualco...\n",
       "9269    ENVOUS Newly Launched Fire Bolt Ring Smartwatc...\n",
       "1994    DIGITEK (DTR-320 FT) Flexible Gorillapod Tripo...\n",
       "5828    Lava A1 (Candy Blue), Number Talker, Smart AI ...\n",
       "7166             Kangaro Stapler DS 45L - Colour May Vary\n",
       "7544    Sellingal Hard Disk Drive Pouch case 2.5\" HDD ...\n",
       "Name: name, dtype: object"
      ]
     },
     "execution_count": 76,
     "metadata": {},
     "output_type": "execute_result"
    }
   ],
   "source": [
    "items['name'].sample(10, random_state=5)"
   ]
  },
  {
   "cell_type": "code",
   "execution_count": 80,
   "id": "03a44f6a",
   "metadata": {},
   "outputs": [],
   "source": [
    "def recommender(product):\n",
    "    product_index = items[items['name'] == product].index[0]\n",
    "    similarity_list = list(enumerate(similarity[product_index]))\n",
    "    top_10_similar_product = sorted(similarity_list, key=lambda x : x[1], reverse = True)[1:11]\n",
    "    for idx, similary in top_10_similar_product:\n",
    "        print(idx)\n",
    "        print(items.loc[idx]['name'])"
   ]
  },
  {
   "cell_type": "code",
   "execution_count": 81,
   "id": "72cf30f2",
   "metadata": {},
   "outputs": [
    {
     "name": "stdout",
     "output_type": "stream",
     "text": [
      "3343\n",
      "Lava A1 2021(Blue Silver), Bluetooth Support, Smart AI Battery, Military Grade Certified,4 Days Battery Backup, Keypad Mobile\n",
      "9194\n",
      "Lava A1 2021(Black Gold), Bluetooth Support, Smart AI Battery, Military Grade Certified,4 Days Battery Backup, Keypad Mobile\n",
      "7687\n",
      "Lava A1 Josh 21(Blue Silver) -Dual Sim,Call Blink Notification,Military Grade Certified 4 Day Battery Backup, Keypad ...\n",
      "2504\n",
      "Lava A3 Power (Aqua Blue),Military Grade Certified, Jumbo Battery 10 Days Backup, Dedicated Music Buttons, Keypad Mob...\n",
      "5275\n",
      "Lava A5 (Gold), Military Grade Certified 3 Days Battery Backup, Sound Leakage Resistance, Super Battery Mode, Keypad ...\n",
      "1950\n",
      "Lava Gem (Blue Gold), Speaker Amplifier, PMMA 2.5D Glass, Military Grade Certified,1.3 MP Camera, Keypad Mobile\n",
      "1498\n",
      "Lava Flip, Blue - Dual Sim Keypad GSM Mobile Unique Design, Notification LED Number Talker\n",
      "5305\n",
      "Lava Hero Punch(Charcoal Grey),Stylish Design, 3 Day Battery Backup, FM Recording, Keypad Mobile, Basic Mobile\n",
      "3022\n",
      "Lava Gem (Gold+Black), Speaker Amplifier, PMMA 2.5D Glass, Military Grade Certified,1.3 MP Camera, Keypad Mobile\n",
      "2760\n",
      "Lava Flip, Red - Dual Sim Keypad Mobile Unique Design, Notification LED Number Talker\n"
     ]
    }
   ],
   "source": [
    "recommender(\"Lava A1 (Candy Blue), Number Talker, Smart AI Battery, 4 Days Battery Backup, Military Grade Certified, Keypad Mobile\")"
   ]
  },
  {
   "cell_type": "code",
   "execution_count": 82,
   "id": "8f1c5cf1",
   "metadata": {},
   "outputs": [
    {
     "name": "stdout",
     "output_type": "stream",
     "text": [
      "2760\n",
      "Lava Flip, Red - Dual Sim Keypad Mobile Unique Design, Notification LED Number Talker\n",
      "3558\n",
      "IKALL K100 Mobile (1.8 Inch, Dual Sim) (Blue)\n",
      "6731\n",
      "Nokia 105 Dual SIM, Keypad Mobile Phone Wireless FM Radio | Blue\n",
      "5828\n",
      "Lava A1 (Candy Blue), Number Talker, Smart AI Battery, 4 Days Battery Backup, Military Grade Certified, Keypad Mobile\n",
      "4362\n",
      "IKALL K100 1.8 Inch Display Keypad Mobile (Dual Sim, 1000 mAh Battery) (Blue)\n",
      "8880\n",
      "Vox V11 Keypad Mobile King Talker, Auto Call Recording & Contact Icon (1.8 Inch, Dual Sim Multimedia) (Red)\n",
      "1051\n",
      "Nokia 2660 Flip 4G Volte keypad Phone Dual SIM, Dual Screen, inbuilt MP3 Player & Wireless FM Radio | Blue\n",
      "2205\n",
      "Nokia 110 Dual SIM (Blue)\n",
      "2782\n",
      "Lava A3 (Dark Blue) - Dual Sim Mobile 1750 mAh Big Battery 32 GB Expandable Storage\n",
      "7687\n",
      "Lava A1 Josh 21(Blue Silver) -Dual Sim,Call Blink Notification,Military Grade Certified 4 Day Battery Backup, Keypad ...\n"
     ]
    }
   ],
   "source": [
    "recommender('Lava Flip, Blue - Dual Sim Keypad GSM Mobile Unique Design, Notification LED Number Talker')"
   ]
  },
  {
   "cell_type": "code",
   "execution_count": 83,
   "id": "e321cae0",
   "metadata": {},
   "outputs": [],
   "source": [
    "pickle.dump(similarity, open('similarity.pkl', 'wb'))"
   ]
  },
  {
   "cell_type": "code",
   "execution_count": 85,
   "id": "4d7b1fd9",
   "metadata": {},
   "outputs": [],
   "source": [
    "pickle.dump(items, open('data.pkl', 'wb'))"
   ]
  },
  {
   "cell_type": "code",
   "execution_count": null,
   "id": "30599bab",
   "metadata": {},
   "outputs": [],
   "source": []
  }
 ],
 "metadata": {
  "kernelspec": {
   "display_name": "Python 3 (ipykernel)",
   "language": "python",
   "name": "python3"
  },
  "language_info": {
   "codemirror_mode": {
    "name": "ipython",
    "version": 3
   },
   "file_extension": ".py",
   "mimetype": "text/x-python",
   "name": "python",
   "nbconvert_exporter": "python",
   "pygments_lexer": "ipython3",
   "version": "3.9.12"
  }
 },
 "nbformat": 4,
 "nbformat_minor": 5
}
